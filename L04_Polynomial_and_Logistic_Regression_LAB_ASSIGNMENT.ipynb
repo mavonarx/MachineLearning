{
  "cells": [
    {
      "cell_type": "markdown",
      "metadata": {
        "id": "view-in-github",
        "colab_type": "text"
      },
      "source": [
        "<a href=\"https://colab.research.google.com/github/mavonarx/MachineLearning/blob/main/L04_Polynomial_and_Logistic_Regression_LAB_ASSIGNMENT.ipynb\" target=\"_parent\"><img src=\"https://colab.research.google.com/assets/colab-badge.svg\" alt=\"Open In Colab\"/></a>"
      ]
    },
    {
      "cell_type": "code",
      "execution_count": null,
      "metadata": {
        "id": "pAJRKdv9QA4C"
      },
      "outputs": [],
      "source": [
        "import numpy as np\n",
        "import pandas as pd\n",
        "from matplotlib import pyplot as plt"
      ]
    },
    {
      "cell_type": "code",
      "execution_count": null,
      "metadata": {
        "id": "D1m4qcrpXdTt"
      },
      "outputs": [],
      "source": [
        "RANDOM_SEED = 0x0"
      ]
    },
    {
      "cell_type": "markdown",
      "metadata": {
        "id": "Ia9s_Q-KXf0T"
      },
      "source": [
        "# TASK 1: Polynomial Regression (5 Points): "
      ]
    },
    {
      "cell_type": "markdown",
      "metadata": {
        "id": "VV0Z3OdeXpha"
      },
      "source": [
        "Let's create and explore the data."
      ]
    },
    {
      "cell_type": "code",
      "execution_count": 12,
      "metadata": {
        "id": "nb5WsezldFla"
      },
      "outputs": [],
      "source": [
        "# set the random seed to an RANDOM_SEED, so that everyone has the same data to work with\n",
        "np.random.seed(seed=RANDOM_SEED)\n",
        "# create predictor variable, that have standard normal distribution and reshape it in order to use for the model training\n",
        "x = np.random.normal(0, 1, 100).reshape(-1, 1)\n",
        "# create target variable\n",
        "y = 3*x**3 + 2*x**2 + x + np.random.normal(0, 10, 100).reshape(-1, 1)"
      ]
    },
    {
      "cell_type": "markdown",
      "metadata": {
        "id": "E65IxT1Bwpmk"
      },
      "source": [
        "Visualise the data"
      ]
    },
    {
      "cell_type": "code",
      "execution_count": 13,
      "metadata": {
        "id": "nCZgTYP3fZe7",
        "outputId": "749673b0-42d6-475d-a578-d139dab4e7d2",
        "colab": {
          "base_uri": "https://localhost:8080/",
          "height": 271
        }
      },
      "outputs": [
        {
          "output_type": "display_data",
          "data": {
            "text/plain": [
              "<Figure size 432x288 with 1 Axes>"
            ],
            "image/png": "[encoded data removed]"
          },
          "metadata": {}
        }
      ],
      "source": [
        "plt.scatter(x, y)\n",
        "plt.show()"
      ]
    },
    {
      "cell_type": "markdown",
      "metadata": {
        "id": "Cx8aSpUnJCI7"
      },
      "source": [
        "## Task 1a\n",
        "Apply Linear Regression on the data\n"
      ]
    },
    {
      "cell_type": "markdown",
      "metadata": {
        "id": "nvRxguOTJnjS"
      },
      "source": [
        "1. Split the data in the train and test set (80/20), set `random_state` to `RANDOM_SEED`."
      ]
    },
    {
      "cell_type": "code",
      "execution_count": 15,
      "metadata": {
        "id": "ti7myWk7KS8Z"
      },
      "outputs": [],
      "source": [
        "\n",
        "from sklearn.model_selection import train_test_split\n",
        "X_train, X_test, y_train, y_test = train_test_split(x,y,test_size = 0.2, random_state =RANDOM_SEED)"
      ]
    },
    {
      "cell_type": "markdown",
      "metadata": {
        "id": "RFSaakYLJuK7"
      },
      "source": [
        "2. Apply Linear Regression on the data and predict `y` values for training as well test data "
      ]
    },
    {
      "cell_type": "code",
      "execution_count": 16,
      "metadata": {
        "id": "Ez6t4Q4P82Qo"
      },
      "outputs": [],
      "source": [
        "from sklearn.linear_model import LinearRegression \n",
        "train_fit = LinearRegression().fit(X_train, y_train)\n",
        "#test_fit = LinearRegression().fit(X_test, y_test)\n",
        "\n",
        "pred_train = train_fit.predict(X_train)\n",
        "pred_test = train_fit.predict(X_test)"
      ]
    },
    {
      "cell_type": "markdown",
      "metadata": {
        "id": "P1k6VBGk8yI6"
      },
      "source": [
        "3. Calculate MSE for training as well as for test data."
      ]
    },
    {
      "cell_type": "code",
      "execution_count": 17,
      "metadata": {
        "id": "qJGjXK8aKD8q",
        "outputId": "62f14865-703f-4d0f-e560-02cc07861eb0",
        "colab": {
          "base_uri": "https://localhost:8080/"
        }
      },
      "outputs": [
        {
          "output_type": "stream",
          "name": "stdout",
          "text": [
            "MSE of training data: 131.3354142667106\n",
            "MSE of test data: 135.783818600193\n"
          ]
        }
      ],
      "source": [
        "from sklearn.metrics import mean_squared_error\n",
        "\n",
        "mse_train = mean_squared_error(y_train, pred_train)\n",
        "mse_test = mean_squared_error(y_test, pred_test)\n",
        "\n",
        "print(f\"MSE of training data: {mse_train}\")\n",
        "print(f\"MSE of test data: {mse_test}\")"
      ]
    },
    {
      "cell_type": "markdown",
      "metadata": {
        "id": "T0VOmhngKEQL"
      },
      "source": [
        "4. Visualize the model's artefacts: Plot all the data as well as Linear Regression predictions for training and test data in a scatter plot. Don't forget a legend to differentiate the data."
      ]
    },
    {
      "cell_type": "code",
      "execution_count": 18,
      "metadata": {
        "id": "94LPydyRD4Nr"
      },
      "outputs": [],
      "source": [
        "def plot_artefacts(xtrain, xtest, ytrain, ytest, pred_train, pred_test):\n",
        "    plt.figure()\n",
        "\n",
        "    plt.scatter(xtrain,ytrain, label=\"train\")\n",
        "    #plt.scatter(xtest, ytest, label = \"test\")\n",
        "\n",
        "    plt.scatter(xtrain,pred_train , label = \"prediction_train\")\n",
        "    plt.scatter(xtest,pred_test , label = \"prediction_test\")\n",
        "\n",
        "    plt.legend()\n",
        "\n",
        "\n",
        "    plt.show()"
      ]
    },
    {
      "cell_type": "code",
      "execution_count": 19,
      "metadata": {
        "id": "yLwMEWirLLBA",
        "outputId": "632a23a0-1d1d-466a-b544-a0be5cd72938",
        "colab": {
          "base_uri": "https://localhost:8080/",
          "height": 271
        }
      },
      "outputs": [
        {
          "output_type": "display_data",
          "data": {
            "text/plain": [
              "<Figure size 432x288 with 1 Axes>"
            ],
            "image/png": "[encoded data removed]"
          },
          "metadata": {}
        }
      ],
      "source": [
        "plot_artefacts(X_train, X_test, y_train, y_test, pred_train, pred_test)"
      ]
    },
    {
      "cell_type": "markdown",
      "metadata": {
        "id": "zwsmpB3oMJZf"
      },
      "source": [
        "## Task 1b\n",
        "Investigate how well polynomial regression with polynomial degrees = 2 can solve the task. In order to do so, follow these steps:\n",
        "1. Transform the training and test data accordingly to describe polynomial distribution of degree=2\n",
        "2. Train a Linear Regression model on polynomial data\n",
        "3. Make predictions for training data\n",
        "4. Make predictions for test data\n",
        "5. Calculate MSE for training as well as test data"
      ]
    },
    {
      "cell_type": "code",
      "execution_count": 20,
      "metadata": {
        "id": "oxni0o041MYH"
      },
      "outputs": [],
      "source": [
        "from sklearn.preprocessing import PolynomialFeatures\n",
        "\n",
        "def poly_regression(degree):\n",
        "    poly = PolynomialFeatures(degree)\n",
        "\n",
        "    trainTransform = poly.fit_transform(X_train)\n",
        "    testTransform = poly.fit_transform(X_test)\n",
        "\n",
        "    fittedtrain = LinearRegression().fit(trainTransform, y_train)\n",
        "\n",
        "    y_pred_train_poly=fittedtrain.predict(trainTransform)\n",
        "    y_pred_test_poly=fittedtrain.predict(testTransform)\n",
        "\n",
        "\n",
        "\n",
        "    mse_train_poly = mean_squared_error(y_train, y_pred_train_poly)\n",
        "    mse_test_poly = mean_squared_error(y_test, y_pred_test_poly)\n",
        "\n",
        "\n",
        "    return y_pred_train_poly, y_pred_test_poly, mse_train_poly, mse_test_poly"
      ]
    },
    {
      "cell_type": "code",
      "execution_count": 21,
      "metadata": {
        "id": "mTiIynAqD4Nr",
        "outputId": "197ca5cc-40b6-4325-a0c6-65ed0d2ebdb4",
        "colab": {
          "base_uri": "https://localhost:8080/",
          "height": 306
        }
      },
      "outputs": [
        {
          "output_type": "stream",
          "name": "stdout",
          "text": [
            "MSE of training data: 129.64199704420645\n",
            "MSE of test data: 128.69895330783692\n"
          ]
        },
        {
          "output_type": "display_data",
          "data": {
            "text/plain": [
              "<Figure size 432x288 with 1 Axes>"
            ],
            "image/png": "[encoded data removed]"
          },
          "metadata": {}
        }
      ],
      "source": [
        "y_pred_train_poly, y_pred_test_poly, mse_train_poly, mse_test_poly = poly_regression(2)\n",
        "\n",
        "\n",
        "plt.scatter(X_train,y_train, label=\"train\")\n",
        "plt.scatter(X_test, y_test, label = \"test\")\n",
        "plt.scatter(X_train, y_pred_train_poly, label = \"predTrain\")\n",
        "plt.scatter(X_test, y_pred_test_poly, label = \"predTest\")\n",
        "\n",
        "plt.legend()\n",
        "\n",
        "print(f\"MSE of training data: {mse_train_poly}\")\n",
        "print(f\"MSE of test data: {mse_test_poly}\")"
      ]
    },
    {
      "cell_type": "markdown",
      "metadata": {
        "id": "nhbIv-toOFoV"
      },
      "source": [
        "6. Did it perform better than Linear Regression? Visualize the results similar to **Task 1a) 4**."
      ]
    },
    {
      "cell_type": "code",
      "execution_count": null,
      "metadata": {
        "id": "yFNrIwDuOUXo"
      },
      "outputs": [],
      "source": [
        "..."
      ]
    },
    {
      "cell_type": "markdown",
      "metadata": {
        "id": "lR_v9mTWOVNj"
      },
      "source": [
        "## Task 1c\n",
        "Investigate the influence of polynomial degrees on the results. Consider degrees in `range(0, 11)`. Visualize the results similar to **Task 1a) 4** and plot MSE (on training as well as test data) as a function of the number of the polynomial degrees. "
      ]
    },
    {
      "cell_type": "code",
      "execution_count": 22,
      "metadata": {
        "id": "4YFTQqWZO_Jx",
        "outputId": "d314b476-2659-4d65-c237-802052c70bb8",
        "colab": {
          "base_uri": "https://localhost:8080/"
        }
      },
      "outputs": [
        {
          "output_type": "stream",
          "name": "stdout",
          "text": [
            "[252.5590649070403, 131.3354142667106, 129.64199704420645, 107.95218526581712, 105.67902403745693, 104.44086502216433, 104.43485364972109, 102.12974684477724, 100.93920532650182, 97.08026571205133, 95.86017297350303, 95.73378984532552]\n",
            "[199.3464641016471, 135.783818600193, 128.69895330783692, 96.96794313055902, 99.05556112804413, 91.46352858855067, 92.61877394619219, 98.94463376893547, 109.66001112184361, 161.3864374036761, 349.28088837491225, 537.9581156738483]\n"
          ]
        }
      ],
      "source": [
        "mses_test_poly = []\n",
        "mses_train_poly = []\n",
        "\n",
        "\n",
        "for i in range(0, 12):\n",
        "  y_pred_train_poly, y_pred_test_poly, mse_train_poly, mse_test_poly = poly_regression(i)\n",
        "  mses_train_poly.append(mse_train_poly)\n",
        "  mses_test_poly.append(mse_test_poly)\n",
        "\n",
        "print(mses_train_poly)\n",
        "print(mses_test_poly)"
      ]
    },
    {
      "cell_type": "markdown",
      "metadata": {
        "id": "qY6QK6OhGBVp"
      },
      "source": [
        "## 📢 **HAND-IN** 📢: Answer following questions in Moodle:\n",
        "\n",
        "What is the optimal value of the polynomial degrees? Do the values of MSE training and MSE test behave similarly? How do the models behave with polynomial degrees >= 8? "
      ]
    },
    {
      "cell_type": "markdown",
      "metadata": {
        "id": "lhOvMhs_V4cY"
      },
      "source": [
        "# Task 2: Polynomial Data Transformation (1 Point)\n",
        "\n",
        "As we have seen in the lecture, Polynomial Regression is nothing other than a generalization of Linear Regression. Every polynomial Regression can be expressed as a Multivariate Linear Regression. Only transformation of the initial data has to be done.\n",
        "\n",
        " $h_\\theta(a) = \\theta_0 + \\theta_1a_1 +\\theta_2a_2 $, where\n",
        " $ a_0 = v^0, a_1 = v^1, a_2 = v^2 $\n",
        "\n",
        "In Task 1 `sklearn.preprocessing.PolynomialFeatures` transformed the X data for us. But in order to understand what exactly it is done to the data, in this task we transform an initial data array $v$ to \n",
        "the form $(a_1...a_n)$ that can be used to build a Polynomial Regression model with polynomial degrees=2 by hand (without using `sklearn.preprocessing.PolynomialFeatures`). Please transform the array $v$ and insert your answer in Moodle."
      ]
    },
    {
      "cell_type": "markdown",
      "metadata": {
        "id": "Zz4WDaq436-y"
      },
      "source": [
        "\\begin{align}\n",
        "v=\n",
        "\\begin{bmatrix}\n",
        "3 \\\\\n",
        "2 \\\\\n",
        "0 \\\\\n",
        "\\end{bmatrix}\n",
        "\\end{align}"
      ]
    },
    {
      "cell_type": "markdown",
      "metadata": {
        "id": "DUDUkf1uJFWf"
      },
      "source": [
        "## 📢 **HAND-IN** 📢: Write your answer in Moodle"
      ]
    },
    {
      "cell_type": "markdown",
      "metadata": {
        "id": "XO800wc-WhyJ"
      },
      "source": [
        "# Task 3: Logistic Regression (4 Points)"
      ]
    },
    {
      "cell_type": "code",
      "execution_count": null,
      "metadata": {
        "id": "prescribed-lawyer"
      },
      "outputs": [],
      "source": [
        "import pandas as pd\n",
        "import numpy as np\n",
        "import matplotlib.pyplot as plt\n",
        "from random import randrange\n",
        "import seaborn as sns\n",
        "sns.set()"
      ]
    },
    {
      "cell_type": "markdown",
      "metadata": {
        "id": "_lLze_K1g0ZA"
      },
      "source": [
        "## Task 3a. Data Exploration and Preprocessing\n",
        "\n",
        "We are using the Fashion MNIST Dataset from Zalando. \n",
        "Firstly, we load and explore the dataset.\n",
        "\n"
      ]
    },
    {
      "cell_type": "code",
      "execution_count": 25,
      "metadata": {
        "id": "wR0ijS0VZ6dk",
        "outputId": "95c374ba-6f0e-445e-bbff-7140a3f45e7b",
        "colab": {
          "base_uri": "https://localhost:8080/"
        }
      },
      "outputs": [
        {
          "output_type": "stream",
          "name": "stdout",
          "text": [
            "(60000, 28, 28)\n",
            "(60000,)\n",
            "uint8\n",
            "uint8\n"
          ]
        }
      ],
      "source": [
        "from keras.datasets import fashion_mnist\n",
        "(X_train, y_train), (X_test, y_test) = fashion_mnist.load_data()\n",
        "print(X_train.shape)\n",
        "print(y_train.shape)\n",
        "print(X_train.dtype)\n",
        "print(y_train.dtype)"
      ]
    },
    {
      "cell_type": "code",
      "execution_count": 26,
      "metadata": {
        "id": "1fd78190-5445-4c53-9b7f-4a0f7aeaf87c"
      },
      "outputs": [],
      "source": [
        "label_names = ['T-shirt/top', 'Trouser', 'Pullover', 'Dress', 'Coat', \n",
        "               'Sandal', 'Shirt', 'Sneaker', 'Bag', 'Ankle boot']"
      ]
    },
    {
      "cell_type": "markdown",
      "metadata": {
        "id": "_9FX76IifOik"
      },
      "source": [
        "In following task we will only use training part of the dataset."
      ]
    },
    {
      "cell_type": "markdown",
      "metadata": {
        "id": "fDgGTbTMHxwN"
      },
      "source": [
        "#### Prepare data \n",
        "1. assign following datatypes to the arrays:\n",
        "   - X_train -> 'float32'\n",
        "   - y_train -> 'int64'\n",
        "2. reshape X_train to 2-dimensional array. \n",
        "Note: \n",
        "   - it should have the same amount of samples/rows.\n",
        "3. split the training data into (X_train, y_train) and (X_valid, y_valid), set the size of the validation dataset to 20% of the training data and set random state = 42."
      ]
    },
    {
      "cell_type": "code",
      "execution_count": 27,
      "metadata": {
        "id": "d3b1f9ef-da3e-445e-b8b0-8adfa6871f14"
      },
      "outputs": [],
      "source": [
        "X_train = X_train.astype('float32')\n",
        "y_train = y_train.astype('int64')\n",
        "X_train = X_train.reshape(60000, 28*28)\n",
        "\n",
        "X_train, X_valid, y_train, y_valid = train_test_split(X_train,y_train,test_size = 0.2, random_state =42)"
      ]
    },
    {
      "cell_type": "markdown",
      "metadata": {
        "id": "26YTJ4uQYE46"
      },
      "source": [
        "#### Visualize some data \n",
        "Plot 25 images (hint: use ``imshow`` and ``subplots`` from matplotlib library), plot the label as title (e.g. shorts)."
      ]
    },
    {
      "cell_type": "code",
      "execution_count": 28,
      "metadata": {
        "id": "1ee386c1-8502-4422-8a1c-8c852e67ac40",
        "outputId": "422d2f99-2461-4274-c6e5-17429635924f",
        "colab": {
          "base_uri": "https://localhost:8080/",
          "height": 610
        }
      },
      "outputs": [
        {
          "output_type": "display_data",
          "data": {
            "text/plain": [
              "<Figure size 720x720 with 25 Axes>"
            ],
            "image/png": "[encoded data removed]"
          },
          "metadata": {}
        }
      ],
      "source": [
        "plt.figure(figsize=(10,10))\n",
        "\n",
        "for i in range(5):\n",
        "  for j in range(5):\n",
        "    num = i*5+j\n",
        "    plt.subplot(5, 5, 5*i + j+1)\n",
        "    plt.imshow(X_train[num].reshape(28, 28))\n",
        "    plt.title(label_names[y_train[num]])"
      ]
    },
    {
      "cell_type": "markdown",
      "metadata": {
        "id": "b61c7d24-8e54-4827-a15f-b0ae553d5743"
      },
      "source": [
        "#### Normalize the Images\n",
        "With mean and standard deviation"
      ]
    },
    {
      "cell_type": "code",
      "execution_count": 36,
      "metadata": {
        "id": "cdf0d1e7-0466-4a49-a349-6b27a9aa3662"
      },
      "outputs": [],
      "source": [
        "X_train_norm = (X_train - X_train.mean())/X_train.std()\n",
        "X_valid_norm = (X_valid - X_valid.mean())/X_valid.std()\n",
        "\n"
      ]
    },
    {
      "cell_type": "markdown",
      "metadata": {
        "id": "1ca1ada5-1203-4e44-a5aa-38b512d522c6"
      },
      "source": [
        "## Task 3b. Logistic Regression\n",
        "1. Fit the `LogisticRegression` from `scikit-learn`. Set the `random_state` for reproducibility.\n",
        "2. Try different parameters (either by hand or by using `GridSearchCV`)\n",
        "\n",
        "\n",
        "**Accuracy should be >= 0.84**"
      ]
    },
    {
      "cell_type": "markdown",
      "metadata": {
        "id": "5Sk55fOkLhgm"
      },
      "source": [
        "Please, check the documentation on:\n",
        "GridSearchCV: https://scikit-learn.org/stable/modules/generated/sklearn.model_selection.GridSearchCV.html\n",
        "\n",
        "PredefinedSplit: https://scikit-learn.org/stable/modules/generated/sklearn.model_selection.PredefinedSplit.html\n",
        "\n",
        "You can ignore a warning \"STOP: TOTAL NO. of ITERATIONS REACHED LIMIT.\" as long as GridSearchCV continues with the next hyperparameter and you reach the necessary accuracy."
      ]
    },
    {
      "cell_type": "code",
      "execution_count": 33,
      "metadata": {
        "id": "U5TiVcHmLtAy",
        "outputId": "6c934b2a-cbdb-44f1-f939-29270335011c",
        "colab": {
          "base_uri": "https://localhost:8080/"
        }
      },
      "outputs": [
        {
          "output_type": "stream",
          "name": "stderr",
          "text": [
            "/usr/local/lib/python3.9/dist-packages/sklearn/linear_model/_logistic.py:458: ConvergenceWarning: lbfgs failed to converge (status=1):\n",
            "STOP: TOTAL NO. of ITERATIONS REACHED LIMIT.\n",
            "\n",
            "Increase the number of iterations (max_iter) or scale the data as shown in:\n",
            "    https://scikit-learn.org/stable/modules/preprocessing.html\n",
            "Please also refer to the documentation for alternative solver options:\n",
            "    https://scikit-learn.org/stable/modules/linear_model.html#logistic-regression\n",
            "  n_iter_i = _check_optimize_result(\n",
            "/usr/local/lib/python3.9/dist-packages/sklearn/linear_model/_logistic.py:458: ConvergenceWarning: lbfgs failed to converge (status=1):\n",
            "STOP: TOTAL NO. of ITERATIONS REACHED LIMIT.\n",
            "\n",
            "Increase the number of iterations (max_iter) or scale the data as shown in:\n",
            "    https://scikit-learn.org/stable/modules/preprocessing.html\n",
            "Please also refer to the documentation for alternative solver options:\n",
            "    https://scikit-learn.org/stable/modules/linear_model.html#logistic-regression\n",
            "  n_iter_i = _check_optimize_result(\n",
            "/usr/local/lib/python3.9/dist-packages/sklearn/model_selection/_validation.py:378: FitFailedWarning: \n",
            "2 fits failed out of a total of 4.\n",
            "The score on these train-test partitions for these parameters will be set to nan.\n",
            "If these failures are not expected, you can try to debug them by setting error_score='raise'.\n",
            "\n",
            "Below are more details about the failures:\n",
            "--------------------------------------------------------------------------------\n",
            "2 fits failed with the following error:\n",
            "Traceback (most recent call last):\n",
            "  File \"/usr/local/lib/python3.9/dist-packages/sklearn/model_selection/_validation.py\", line 686, in _fit_and_score\n",
            "    estimator.fit(X_train, y_train, **fit_params)\n",
            "  File \"/usr/local/lib/python3.9/dist-packages/sklearn/linear_model/_logistic.py\", line 1160, in fit\n",
            "    self._validate_params()\n",
            "  File \"/usr/local/lib/python3.9/dist-packages/sklearn/base.py\", line 600, in _validate_params\n",
            "    validate_parameter_constraints(\n",
            "  File \"/usr/local/lib/python3.9/dist-packages/sklearn/utils/_param_validation.py\", line 97, in validate_parameter_constraints\n",
            "    raise InvalidParameterError(\n",
            "sklearn.utils._param_validation.InvalidParameterError: The 'penalty' parameter of LogisticRegression must be a str among {'l2', 'l1', 'none' (deprecated), 'elasticnet'} or None. Got 'None' instead.\n",
            "\n",
            "  warnings.warn(some_fits_failed_message, FitFailedWarning)\n",
            "/usr/local/lib/python3.9/dist-packages/sklearn/model_selection/_search.py:952: UserWarning: One or more of the test scores are non-finite: [0.85158333        nan 0.85191667        nan]\n",
            "  warnings.warn(\n",
            "/usr/local/lib/python3.9/dist-packages/sklearn/linear_model/_logistic.py:458: ConvergenceWarning: lbfgs failed to converge (status=1):\n",
            "STOP: TOTAL NO. of ITERATIONS REACHED LIMIT.\n",
            "\n",
            "Increase the number of iterations (max_iter) or scale the data as shown in:\n",
            "    https://scikit-learn.org/stable/modules/preprocessing.html\n",
            "Please also refer to the documentation for alternative solver options:\n",
            "    https://scikit-learn.org/stable/modules/linear_model.html#logistic-regression\n",
            "  n_iter_i = _check_optimize_result(\n"
          ]
        }
      ],
      "source": [
        "from sklearn.model_selection import GridSearchCV\n",
        "from sklearn.model_selection import PredefinedSplit\n",
        "from sklearn.linear_model import LogisticRegression \n",
        "# We use predefined split in order to control that no train samples would be used in validation step\n",
        "\n",
        "\n",
        "train_indices = np.full((X_train.shape[0],), -1, dtype=int)\n",
        "test_indices = np.full((X_valid.shape[0],), 0, dtype=int)\n",
        "\n",
        "ps = PredefinedSplit(np.append(train_indices, test_indices))\n",
        "\n",
        "parameters = {'penalty' :('l2', 'None'), 'C':[1,10]}\n",
        "clf = LogisticRegression(random_state = 42)\n",
        "\n",
        "opt = GridSearchCV(clf, param_grid = parameters, cv=ps)\n",
        "\n",
        "# when we fit the model, we should use both training and validation samples\n",
        "\n",
        "xtot = np.append(X_train_norm, X_valid_norm, axis = 0)\n",
        "ytot = np.append(y_train, y_valid, axis = 0)\n",
        "fit = opt.fit(xtot, ytot)"
      ]
    },
    {
      "cell_type": "markdown",
      "metadata": {
        "id": "X5JzFGLlMvk8"
      },
      "source": [
        "Use the best found parameters for the next steps. `GridSearchCV` provides them in the `best_params_` attribute."
      ]
    },
    {
      "cell_type": "markdown",
      "metadata": {
        "id": "JFqGPd65aM_l"
      },
      "source": [
        "3. Create a new `LogisticRegression` instance with the best found parameters.\n",
        "4. Fit it on the training set.\n",
        "5. Calculate the accuracy on the validation set."
      ]
    },
    {
      "cell_type": "code",
      "execution_count": 37,
      "metadata": {
        "id": "d34138f1-d52a-4cb1-8b49-732f4d711d7a",
        "outputId": "2b8148dc-feaa-4ea2-952f-6b911d371e05",
        "colab": {
          "base_uri": "https://localhost:8080/"
        }
      },
      "outputs": [
        {
          "output_type": "stream",
          "name": "stdout",
          "text": [
            "{'C': 10, 'penalty': 'l2'}\n"
          ]
        },
        {
          "output_type": "stream",
          "name": "stderr",
          "text": [
            "/usr/local/lib/python3.9/dist-packages/sklearn/linear_model/_logistic.py:458: ConvergenceWarning: lbfgs failed to converge (status=1):\n",
            "STOP: TOTAL NO. of ITERATIONS REACHED LIMIT.\n",
            "\n",
            "Increase the number of iterations (max_iter) or scale the data as shown in:\n",
            "    https://scikit-learn.org/stable/modules/preprocessing.html\n",
            "Please also refer to the documentation for alternative solver options:\n",
            "    https://scikit-learn.org/stable/modules/linear_model.html#logistic-regression\n",
            "  n_iter_i = _check_optimize_result(\n"
          ]
        },
        {
          "output_type": "execute_result",
          "data": {
            "text/plain": [
              "Ellipsis"
            ]
          },
          "metadata": {},
          "execution_count": 37
        }
      ],
      "source": [
        "from sklearn.metrics import accuracy_score\n",
        "print(fit.best_params_)\n",
        "logReg = LogisticRegression(C=10, penalty='l2')\n",
        "logReg.fit(X_train_norm, y_train)\n",
        "y_pred = logReg.predict(X_valid_norm)\n",
        "\n",
        "\n",
        "\n",
        "\n",
        "\n",
        "..."
      ]
    },
    {
      "cell_type": "code",
      "source": [
        "acc = accuracy_score(y_valid, y_pred)\n",
        "print(acc)"
      ],
      "metadata": {
        "id": "VHZbyOqbkGJq",
        "outputId": "3e0d894c-d1c4-4b78-aa70-dea7a98fc04e",
        "colab": {
          "base_uri": "https://localhost:8080/"
        }
      },
      "execution_count": 39,
      "outputs": [
        {
          "output_type": "stream",
          "name": "stdout",
          "text": [
            "0.8519166666666667\n"
          ]
        }
      ]
    },
    {
      "cell_type": "markdown",
      "metadata": {
        "id": "n9lT2RiDNPD2"
      },
      "source": [
        "## 📢 **HAND-IN** 📢: Report in Moodle the accuracy you got in this task."
      ]
    }
  ],
  "metadata": {
    "colab": {
      "provenance": [],
      "include_colab_link": true
    },
    "kernelspec": {
      "display_name": "Python 3",
      "name": "python3"
    },
    "language_info": {
      "name": "python",
      "version": "3.8.15"
    }
  },
  "nbformat": 4,
  "nbformat_minor": 0
}